{
  "cells": [
    {
      "cell_type": "markdown",
      "source": [
        "# Import"
      ],
      "metadata": {
        "id": "zmITBIcPfqoN"
      }
    },
    {
      "cell_type": "code",
      "execution_count": 1,
      "metadata": {
        "id": "w-WIyS9b2v59"
      },
      "outputs": [],
      "source": [
        "import numpy as np\n",
        "import pandas as pd\n",
        "import matplotlib.pyplot as plt\n",
        "import seaborn as sns\n",
        "\n",
        "import torch\n",
        "import torch.nn as nn\n",
        "import torch.optim as optim\n",
        "from torch.utils.data import Dataset, DataLoader\n",
        "from torchvision import models\n",
        "from torchvision import transforms\n",
        "\n",
        "from sklearn.model_selection import StratifiedKFold\n",
        "from sklearn.metrics import accuracy_score\n",
        "from sklearn.model_selection import train_test_split\n",
        "from sklearn.preprocessing import LabelEncoder"
      ]
    },
    {
      "cell_type": "code",
      "source": [
        "!pip install wandb"
      ],
      "metadata": {
        "colab": {
          "base_uri": "https://localhost:8080/"
        },
        "id": "q5zqvZT3ed96",
        "outputId": "f066fd45-1816-4eea-8e1b-900b56473108"
      },
      "execution_count": 2,
      "outputs": [
        {
          "output_type": "stream",
          "name": "stdout",
          "text": [
            "Requirement already satisfied: wandb in /usr/local/lib/python3.11/dist-packages (0.19.11)\n",
            "Requirement already satisfied: click!=8.0.0,>=7.1 in /usr/local/lib/python3.11/dist-packages (from wandb) (8.1.8)\n",
            "Requirement already satisfied: docker-pycreds>=0.4.0 in /usr/local/lib/python3.11/dist-packages (from wandb) (0.4.0)\n",
            "Requirement already satisfied: gitpython!=3.1.29,>=1.0.0 in /usr/local/lib/python3.11/dist-packages (from wandb) (3.1.44)\n",
            "Requirement already satisfied: platformdirs in /usr/local/lib/python3.11/dist-packages (from wandb) (4.3.8)\n",
            "Requirement already satisfied: protobuf!=4.21.0,!=5.28.0,<7,>=3.19.0 in /usr/local/lib/python3.11/dist-packages (from wandb) (5.29.4)\n",
            "Requirement already satisfied: psutil>=5.0.0 in /usr/local/lib/python3.11/dist-packages (from wandb) (5.9.5)\n",
            "Requirement already satisfied: pydantic<3 in /usr/local/lib/python3.11/dist-packages (from wandb) (2.11.4)\n",
            "Requirement already satisfied: pyyaml in /usr/local/lib/python3.11/dist-packages (from wandb) (6.0.2)\n",
            "Requirement already satisfied: requests<3,>=2.0.0 in /usr/local/lib/python3.11/dist-packages (from wandb) (2.32.3)\n",
            "Requirement already satisfied: sentry-sdk>=2.0.0 in /usr/local/lib/python3.11/dist-packages (from wandb) (2.27.0)\n",
            "Requirement already satisfied: setproctitle in /usr/local/lib/python3.11/dist-packages (from wandb) (1.3.6)\n",
            "Requirement already satisfied: setuptools in /usr/local/lib/python3.11/dist-packages (from wandb) (75.2.0)\n",
            "Requirement already satisfied: typing-extensions<5,>=4.4 in /usr/local/lib/python3.11/dist-packages (from wandb) (4.13.2)\n",
            "Requirement already satisfied: six>=1.4.0 in /usr/local/lib/python3.11/dist-packages (from docker-pycreds>=0.4.0->wandb) (1.17.0)\n",
            "Requirement already satisfied: gitdb<5,>=4.0.1 in /usr/local/lib/python3.11/dist-packages (from gitpython!=3.1.29,>=1.0.0->wandb) (4.0.12)\n",
            "Requirement already satisfied: annotated-types>=0.6.0 in /usr/local/lib/python3.11/dist-packages (from pydantic<3->wandb) (0.7.0)\n",
            "Requirement already satisfied: pydantic-core==2.33.2 in /usr/local/lib/python3.11/dist-packages (from pydantic<3->wandb) (2.33.2)\n",
            "Requirement already satisfied: typing-inspection>=0.4.0 in /usr/local/lib/python3.11/dist-packages (from pydantic<3->wandb) (0.4.0)\n",
            "Requirement already satisfied: charset-normalizer<4,>=2 in /usr/local/lib/python3.11/dist-packages (from requests<3,>=2.0.0->wandb) (3.4.2)\n",
            "Requirement already satisfied: idna<4,>=2.5 in /usr/local/lib/python3.11/dist-packages (from requests<3,>=2.0.0->wandb) (3.10)\n",
            "Requirement already satisfied: urllib3<3,>=1.21.1 in /usr/local/lib/python3.11/dist-packages (from requests<3,>=2.0.0->wandb) (2.4.0)\n",
            "Requirement already satisfied: certifi>=2017.4.17 in /usr/local/lib/python3.11/dist-packages (from requests<3,>=2.0.0->wandb) (2025.4.26)\n",
            "Requirement already satisfied: smmap<6,>=3.0.1 in /usr/local/lib/python3.11/dist-packages (from gitdb<5,>=4.0.1->gitpython!=3.1.29,>=1.0.0->wandb) (5.0.2)\n"
          ]
        }
      ]
    },
    {
      "cell_type": "code",
      "source": [
        "!wandb login"
      ],
      "metadata": {
        "colab": {
          "base_uri": "https://localhost:8080/"
        },
        "id": "8s6J1eU5e_X9",
        "outputId": "b82f20cb-1911-41f0-e01b-9c02d00c84b4"
      },
      "execution_count": 3,
      "outputs": [
        {
          "output_type": "stream",
          "name": "stdout",
          "text": [
            "\u001b[34m\u001b[1mwandb\u001b[0m: \u001b[33mWARNING\u001b[0m Using legacy-service, which is deprecated. If this is unintentional, you can fix it by ensuring you do not call `wandb.require('legacy-service')` and do not set the WANDB_X_REQUIRE_LEGACY_SERVICE environment variable.\n",
            "\u001b[34m\u001b[1mwandb\u001b[0m: Logging into wandb.ai. (Learn how to deploy a W&B server locally: https://wandb.me/wandb-server)\n",
            "\u001b[34m\u001b[1mwandb\u001b[0m: You can find your API key in your browser here: https://wandb.ai/authorize?ref=models\n",
            "\u001b[34m\u001b[1mwandb\u001b[0m: Paste an API key from your profile and hit enter, or press ctrl+c to quit: \n",
            "\u001b[34m\u001b[1mwandb\u001b[0m: No netrc file found, creating one.\n",
            "\u001b[34m\u001b[1mwandb\u001b[0m: Appending key for api.wandb.ai to your netrc file: /root/.netrc\n",
            "\u001b[34m\u001b[1mwandb\u001b[0m: Currently logged in as: \u001b[33meeuuais\u001b[0m to \u001b[32mhttps://api.wandb.ai\u001b[0m. Use \u001b[1m`wandb login --relogin`\u001b[0m to force relogin\n"
          ]
        }
      ]
    },
    {
      "cell_type": "markdown",
      "source": [
        "# Datasets & DataLoaders & criterion setup"
      ],
      "metadata": {
        "id": "nm4szQ1Df5xO"
      }
    },
    {
      "cell_type": "code",
      "execution_count": 4,
      "metadata": {
        "id": "eZ1isC0m2v6A"
      },
      "outputs": [],
      "source": [
        "from torch.utils.data import Dataset\n",
        "import torch\n",
        "import numpy as np\n",
        "\n",
        "# 데이터셋 클래스 정의\n",
        "class ImageDataset(Dataset):\n",
        "    def __init__(self, data, labels=None, transform=None):\n",
        "        # 데이터 정규화: 0~1023 -> 0~1로 정규화\n",
        "        self.data = torch.tensor(np.array(data) / 1023.0, dtype=torch.float32).view(-1, 1, 32, 32)  # 정규화\n",
        "        self.labels = None if labels is None else torch.tensor(labels, dtype=torch.long)\n",
        "        self.transform = transform  # transform을 추가하여 데이터 변환 가능하게\n",
        "\n",
        "    def __len__(self):\n",
        "        return len(self.data)\n",
        "\n",
        "    def __getitem__(self, idx):\n",
        "        image = self.data[idx]\n",
        "        label = self.labels[idx] if self.labels is not None else None\n",
        "\n",
        "        # 변환을 적용하고자 하면, transform을 적용\n",
        "        if self.transform:\n",
        "            image = self.transform(image)  # 이미지에 transform 적용 (예: ToTensor())\n",
        "\n",
        "        if self.labels is None:\n",
        "            return image\n",
        "        return image, label"
      ]
    },
    {
      "cell_type": "code",
      "source": [
        "# transform 정의 (여기서는 ToTensor()와 정규화를 예시로 사용)\n",
        "transform = transforms.Compose([\n",
        "    transforms.ToTensor(),  # 이미지를 Tensor로 변환\n",
        "    transforms.Normalize(mean=[0.5], std=[0.5])  # 정규화 (예시)\n",
        "])"
      ],
      "metadata": {
        "id": "ahK9Q9r3DODh"
      },
      "execution_count": 5,
      "outputs": []
    },
    {
      "cell_type": "code",
      "execution_count": 6,
      "metadata": {
        "id": "SFXSHww-2v6A"
      },
      "outputs": [],
      "source": [
        "# ResNet50 모델 정의\n",
        "class ResNet50Model(nn.Module):\n",
        "    def __init__(self, num_classes=10, dropout_rate=0.5):\n",
        "        super(ResNet50Model, self).__init__()\n",
        "        self.model = models.resnet50(weights=None) # 사전학습 미사용\n",
        "        self.model.conv1 = nn.Conv2d(1, 64, kernel_size=3, stride=1, padding=1, bias=False)  # 입력 채널 1로 변경\n",
        "        self.model.avgpool = nn.AdaptiveAvgPool2d(1)  # 평균 풀링 조정\n",
        "\n",
        "        in_features = self.model.fc.in_features  # ResNet50은 기본적으로 2048 (ResNet50의 마지막 출력 채널 수)\n",
        "        self.model.fc = nn.Sequential(\n",
        "            nn.Dropout(dropout_rate),\n",
        "            nn.Linear(in_features, num_classes)\n",
        "        )\n",
        "\n",
        "    def forward(self, x):\n",
        "        return self.model(x)"
      ]
    },
    {
      "cell_type": "markdown",
      "source": [
        "# Data Loading & Label Encoding"
      ],
      "metadata": {
        "id": "Jkw8rAiyfz-M"
      }
    },
    {
      "cell_type": "code",
      "execution_count": 8,
      "metadata": {
        "id": "H9BVdoHe2v6B"
      },
      "outputs": [],
      "source": [
        "# 데이터 불러오기\n",
        "train_df = pd.read_csv(\"/content/train.csv\")\n",
        "test_df = pd.read_csv(\"/content/test.csv\")"
      ]
    },
    {
      "cell_type": "code",
      "source": [
        "train_df.shape"
      ],
      "metadata": {
        "colab": {
          "base_uri": "https://localhost:8080/"
        },
        "id": "-4XBqeRJ3jEw",
        "outputId": "8f4f3efa-8528-4aa3-fa99-092667dd3aa1"
      },
      "execution_count": 9,
      "outputs": [
        {
          "output_type": "execute_result",
          "data": {
            "text/plain": [
              "(769, 1026)"
            ]
          },
          "metadata": {},
          "execution_count": 9
        }
      ]
    },
    {
      "cell_type": "code",
      "source": [
        "train_df.head()"
      ],
      "metadata": {
        "colab": {
          "base_uri": "https://localhost:8080/",
          "height": 236
        },
        "id": "IYomIMA83lqs",
        "outputId": "b2901db5-cf60-4018-e88e-c36c95f37aa7"
      },
      "execution_count": 10,
      "outputs": [
        {
          "output_type": "execute_result",
          "data": {
            "text/plain": [
              "          ID     label    0    1    2    3    4    5    6    7  ...  1014  \\\n",
              "0  TRAIN_000  building  251  196   51   63   68   78  189   34  ...    85   \n",
              "1  TRAIN_001  building  247  184  203  237  255  255  193  255  ...   242   \n",
              "2  TRAIN_002  building  217  223  232  231  239  212  109  115  ...    96   \n",
              "3  TRAIN_003       cat  133  149  153  138   68  157  159  166  ...   245   \n",
              "4  TRAIN_004  building  240  213  187  159  112  134  239  233  ...   148   \n",
              "\n",
              "   1015  1016  1017  1018  1019  1020  1021  1022  1023  \n",
              "0   195    63    30    73    65    63   201   251   248  \n",
              "1   239   241   242   242   241   241   241   240   238  \n",
              "2    90   103   166   191   163   190   190   206   231  \n",
              "3   241   247   255   250   190   186   244   254   201  \n",
              "4    59   163   133    92   196   221   194   182   251  \n",
              "\n",
              "[5 rows x 1026 columns]"
            ],
            "text/html": [
              "\n",
              "  <div id=\"df-28cecfd2-dec7-48a9-bdd5-a6bd6675ed98\" class=\"colab-df-container\">\n",
              "    <div>\n",
              "<style scoped>\n",
              "    .dataframe tbody tr th:only-of-type {\n",
              "        vertical-align: middle;\n",
              "    }\n",
              "\n",
              "    .dataframe tbody tr th {\n",
              "        vertical-align: top;\n",
              "    }\n",
              "\n",
              "    .dataframe thead th {\n",
              "        text-align: right;\n",
              "    }\n",
              "</style>\n",
              "<table border=\"1\" class=\"dataframe\">\n",
              "  <thead>\n",
              "    <tr style=\"text-align: right;\">\n",
              "      <th></th>\n",
              "      <th>ID</th>\n",
              "      <th>label</th>\n",
              "      <th>0</th>\n",
              "      <th>1</th>\n",
              "      <th>2</th>\n",
              "      <th>3</th>\n",
              "      <th>4</th>\n",
              "      <th>5</th>\n",
              "      <th>6</th>\n",
              "      <th>7</th>\n",
              "      <th>...</th>\n",
              "      <th>1014</th>\n",
              "      <th>1015</th>\n",
              "      <th>1016</th>\n",
              "      <th>1017</th>\n",
              "      <th>1018</th>\n",
              "      <th>1019</th>\n",
              "      <th>1020</th>\n",
              "      <th>1021</th>\n",
              "      <th>1022</th>\n",
              "      <th>1023</th>\n",
              "    </tr>\n",
              "  </thead>\n",
              "  <tbody>\n",
              "    <tr>\n",
              "      <th>0</th>\n",
              "      <td>TRAIN_000</td>\n",
              "      <td>building</td>\n",
              "      <td>251</td>\n",
              "      <td>196</td>\n",
              "      <td>51</td>\n",
              "      <td>63</td>\n",
              "      <td>68</td>\n",
              "      <td>78</td>\n",
              "      <td>189</td>\n",
              "      <td>34</td>\n",
              "      <td>...</td>\n",
              "      <td>85</td>\n",
              "      <td>195</td>\n",
              "      <td>63</td>\n",
              "      <td>30</td>\n",
              "      <td>73</td>\n",
              "      <td>65</td>\n",
              "      <td>63</td>\n",
              "      <td>201</td>\n",
              "      <td>251</td>\n",
              "      <td>248</td>\n",
              "    </tr>\n",
              "    <tr>\n",
              "      <th>1</th>\n",
              "      <td>TRAIN_001</td>\n",
              "      <td>building</td>\n",
              "      <td>247</td>\n",
              "      <td>184</td>\n",
              "      <td>203</td>\n",
              "      <td>237</td>\n",
              "      <td>255</td>\n",
              "      <td>255</td>\n",
              "      <td>193</td>\n",
              "      <td>255</td>\n",
              "      <td>...</td>\n",
              "      <td>242</td>\n",
              "      <td>239</td>\n",
              "      <td>241</td>\n",
              "      <td>242</td>\n",
              "      <td>242</td>\n",
              "      <td>241</td>\n",
              "      <td>241</td>\n",
              "      <td>241</td>\n",
              "      <td>240</td>\n",
              "      <td>238</td>\n",
              "    </tr>\n",
              "    <tr>\n",
              "      <th>2</th>\n",
              "      <td>TRAIN_002</td>\n",
              "      <td>building</td>\n",
              "      <td>217</td>\n",
              "      <td>223</td>\n",
              "      <td>232</td>\n",
              "      <td>231</td>\n",
              "      <td>239</td>\n",
              "      <td>212</td>\n",
              "      <td>109</td>\n",
              "      <td>115</td>\n",
              "      <td>...</td>\n",
              "      <td>96</td>\n",
              "      <td>90</td>\n",
              "      <td>103</td>\n",
              "      <td>166</td>\n",
              "      <td>191</td>\n",
              "      <td>163</td>\n",
              "      <td>190</td>\n",
              "      <td>190</td>\n",
              "      <td>206</td>\n",
              "      <td>231</td>\n",
              "    </tr>\n",
              "    <tr>\n",
              "      <th>3</th>\n",
              "      <td>TRAIN_003</td>\n",
              "      <td>cat</td>\n",
              "      <td>133</td>\n",
              "      <td>149</td>\n",
              "      <td>153</td>\n",
              "      <td>138</td>\n",
              "      <td>68</td>\n",
              "      <td>157</td>\n",
              "      <td>159</td>\n",
              "      <td>166</td>\n",
              "      <td>...</td>\n",
              "      <td>245</td>\n",
              "      <td>241</td>\n",
              "      <td>247</td>\n",
              "      <td>255</td>\n",
              "      <td>250</td>\n",
              "      <td>190</td>\n",
              "      <td>186</td>\n",
              "      <td>244</td>\n",
              "      <td>254</td>\n",
              "      <td>201</td>\n",
              "    </tr>\n",
              "    <tr>\n",
              "      <th>4</th>\n",
              "      <td>TRAIN_004</td>\n",
              "      <td>building</td>\n",
              "      <td>240</td>\n",
              "      <td>213</td>\n",
              "      <td>187</td>\n",
              "      <td>159</td>\n",
              "      <td>112</td>\n",
              "      <td>134</td>\n",
              "      <td>239</td>\n",
              "      <td>233</td>\n",
              "      <td>...</td>\n",
              "      <td>148</td>\n",
              "      <td>59</td>\n",
              "      <td>163</td>\n",
              "      <td>133</td>\n",
              "      <td>92</td>\n",
              "      <td>196</td>\n",
              "      <td>221</td>\n",
              "      <td>194</td>\n",
              "      <td>182</td>\n",
              "      <td>251</td>\n",
              "    </tr>\n",
              "  </tbody>\n",
              "</table>\n",
              "<p>5 rows × 1026 columns</p>\n",
              "</div>\n",
              "    <div class=\"colab-df-buttons\">\n",
              "\n",
              "  <div class=\"colab-df-container\">\n",
              "    <button class=\"colab-df-convert\" onclick=\"convertToInteractive('df-28cecfd2-dec7-48a9-bdd5-a6bd6675ed98')\"\n",
              "            title=\"Convert this dataframe to an interactive table.\"\n",
              "            style=\"display:none;\">\n",
              "\n",
              "  <svg xmlns=\"http://www.w3.org/2000/svg\" height=\"24px\" viewBox=\"0 -960 960 960\">\n",
              "    <path d=\"M120-120v-720h720v720H120Zm60-500h600v-160H180v160Zm220 220h160v-160H400v160Zm0 220h160v-160H400v160ZM180-400h160v-160H180v160Zm440 0h160v-160H620v160ZM180-180h160v-160H180v160Zm440 0h160v-160H620v160Z\"/>\n",
              "  </svg>\n",
              "    </button>\n",
              "\n",
              "  <style>\n",
              "    .colab-df-container {\n",
              "      display:flex;\n",
              "      gap: 12px;\n",
              "    }\n",
              "\n",
              "    .colab-df-convert {\n",
              "      background-color: #E8F0FE;\n",
              "      border: none;\n",
              "      border-radius: 50%;\n",
              "      cursor: pointer;\n",
              "      display: none;\n",
              "      fill: #1967D2;\n",
              "      height: 32px;\n",
              "      padding: 0 0 0 0;\n",
              "      width: 32px;\n",
              "    }\n",
              "\n",
              "    .colab-df-convert:hover {\n",
              "      background-color: #E2EBFA;\n",
              "      box-shadow: 0px 1px 2px rgba(60, 64, 67, 0.3), 0px 1px 3px 1px rgba(60, 64, 67, 0.15);\n",
              "      fill: #174EA6;\n",
              "    }\n",
              "\n",
              "    .colab-df-buttons div {\n",
              "      margin-bottom: 4px;\n",
              "    }\n",
              "\n",
              "    [theme=dark] .colab-df-convert {\n",
              "      background-color: #3B4455;\n",
              "      fill: #D2E3FC;\n",
              "    }\n",
              "\n",
              "    [theme=dark] .colab-df-convert:hover {\n",
              "      background-color: #434B5C;\n",
              "      box-shadow: 0px 1px 3px 1px rgba(0, 0, 0, 0.15);\n",
              "      filter: drop-shadow(0px 1px 2px rgba(0, 0, 0, 0.3));\n",
              "      fill: #FFFFFF;\n",
              "    }\n",
              "  </style>\n",
              "\n",
              "    <script>\n",
              "      const buttonEl =\n",
              "        document.querySelector('#df-28cecfd2-dec7-48a9-bdd5-a6bd6675ed98 button.colab-df-convert');\n",
              "      buttonEl.style.display =\n",
              "        google.colab.kernel.accessAllowed ? 'block' : 'none';\n",
              "\n",
              "      async function convertToInteractive(key) {\n",
              "        const element = document.querySelector('#df-28cecfd2-dec7-48a9-bdd5-a6bd6675ed98');\n",
              "        const dataTable =\n",
              "          await google.colab.kernel.invokeFunction('convertToInteractive',\n",
              "                                                    [key], {});\n",
              "        if (!dataTable) return;\n",
              "\n",
              "        const docLinkHtml = 'Like what you see? Visit the ' +\n",
              "          '<a target=\"_blank\" href=https://colab.research.google.com/notebooks/data_table.ipynb>data table notebook</a>'\n",
              "          + ' to learn more about interactive tables.';\n",
              "        element.innerHTML = '';\n",
              "        dataTable['output_type'] = 'display_data';\n",
              "        await google.colab.output.renderOutput(dataTable, element);\n",
              "        const docLink = document.createElement('div');\n",
              "        docLink.innerHTML = docLinkHtml;\n",
              "        element.appendChild(docLink);\n",
              "      }\n",
              "    </script>\n",
              "  </div>\n",
              "\n",
              "\n",
              "    <div id=\"df-9d176592-b36d-4fb5-88bc-e660178dd4b0\">\n",
              "      <button class=\"colab-df-quickchart\" onclick=\"quickchart('df-9d176592-b36d-4fb5-88bc-e660178dd4b0')\"\n",
              "                title=\"Suggest charts\"\n",
              "                style=\"display:none;\">\n",
              "\n",
              "<svg xmlns=\"http://www.w3.org/2000/svg\" height=\"24px\"viewBox=\"0 0 24 24\"\n",
              "     width=\"24px\">\n",
              "    <g>\n",
              "        <path d=\"M19 3H5c-1.1 0-2 .9-2 2v14c0 1.1.9 2 2 2h14c1.1 0 2-.9 2-2V5c0-1.1-.9-2-2-2zM9 17H7v-7h2v7zm4 0h-2V7h2v10zm4 0h-2v-4h2v4z\"/>\n",
              "    </g>\n",
              "</svg>\n",
              "      </button>\n",
              "\n",
              "<style>\n",
              "  .colab-df-quickchart {\n",
              "      --bg-color: #E8F0FE;\n",
              "      --fill-color: #1967D2;\n",
              "      --hover-bg-color: #E2EBFA;\n",
              "      --hover-fill-color: #174EA6;\n",
              "      --disabled-fill-color: #AAA;\n",
              "      --disabled-bg-color: #DDD;\n",
              "  }\n",
              "\n",
              "  [theme=dark] .colab-df-quickchart {\n",
              "      --bg-color: #3B4455;\n",
              "      --fill-color: #D2E3FC;\n",
              "      --hover-bg-color: #434B5C;\n",
              "      --hover-fill-color: #FFFFFF;\n",
              "      --disabled-bg-color: #3B4455;\n",
              "      --disabled-fill-color: #666;\n",
              "  }\n",
              "\n",
              "  .colab-df-quickchart {\n",
              "    background-color: var(--bg-color);\n",
              "    border: none;\n",
              "    border-radius: 50%;\n",
              "    cursor: pointer;\n",
              "    display: none;\n",
              "    fill: var(--fill-color);\n",
              "    height: 32px;\n",
              "    padding: 0;\n",
              "    width: 32px;\n",
              "  }\n",
              "\n",
              "  .colab-df-quickchart:hover {\n",
              "    background-color: var(--hover-bg-color);\n",
              "    box-shadow: 0 1px 2px rgba(60, 64, 67, 0.3), 0 1px 3px 1px rgba(60, 64, 67, 0.15);\n",
              "    fill: var(--button-hover-fill-color);\n",
              "  }\n",
              "\n",
              "  .colab-df-quickchart-complete:disabled,\n",
              "  .colab-df-quickchart-complete:disabled:hover {\n",
              "    background-color: var(--disabled-bg-color);\n",
              "    fill: var(--disabled-fill-color);\n",
              "    box-shadow: none;\n",
              "  }\n",
              "\n",
              "  .colab-df-spinner {\n",
              "    border: 2px solid var(--fill-color);\n",
              "    border-color: transparent;\n",
              "    border-bottom-color: var(--fill-color);\n",
              "    animation:\n",
              "      spin 1s steps(1) infinite;\n",
              "  }\n",
              "\n",
              "  @keyframes spin {\n",
              "    0% {\n",
              "      border-color: transparent;\n",
              "      border-bottom-color: var(--fill-color);\n",
              "      border-left-color: var(--fill-color);\n",
              "    }\n",
              "    20% {\n",
              "      border-color: transparent;\n",
              "      border-left-color: var(--fill-color);\n",
              "      border-top-color: var(--fill-color);\n",
              "    }\n",
              "    30% {\n",
              "      border-color: transparent;\n",
              "      border-left-color: var(--fill-color);\n",
              "      border-top-color: var(--fill-color);\n",
              "      border-right-color: var(--fill-color);\n",
              "    }\n",
              "    40% {\n",
              "      border-color: transparent;\n",
              "      border-right-color: var(--fill-color);\n",
              "      border-top-color: var(--fill-color);\n",
              "    }\n",
              "    60% {\n",
              "      border-color: transparent;\n",
              "      border-right-color: var(--fill-color);\n",
              "    }\n",
              "    80% {\n",
              "      border-color: transparent;\n",
              "      border-right-color: var(--fill-color);\n",
              "      border-bottom-color: var(--fill-color);\n",
              "    }\n",
              "    90% {\n",
              "      border-color: transparent;\n",
              "      border-bottom-color: var(--fill-color);\n",
              "    }\n",
              "  }\n",
              "</style>\n",
              "\n",
              "      <script>\n",
              "        async function quickchart(key) {\n",
              "          const quickchartButtonEl =\n",
              "            document.querySelector('#' + key + ' button');\n",
              "          quickchartButtonEl.disabled = true;  // To prevent multiple clicks.\n",
              "          quickchartButtonEl.classList.add('colab-df-spinner');\n",
              "          try {\n",
              "            const charts = await google.colab.kernel.invokeFunction(\n",
              "                'suggestCharts', [key], {});\n",
              "          } catch (error) {\n",
              "            console.error('Error during call to suggestCharts:', error);\n",
              "          }\n",
              "          quickchartButtonEl.classList.remove('colab-df-spinner');\n",
              "          quickchartButtonEl.classList.add('colab-df-quickchart-complete');\n",
              "        }\n",
              "        (() => {\n",
              "          let quickchartButtonEl =\n",
              "            document.querySelector('#df-9d176592-b36d-4fb5-88bc-e660178dd4b0 button');\n",
              "          quickchartButtonEl.style.display =\n",
              "            google.colab.kernel.accessAllowed ? 'block' : 'none';\n",
              "        })();\n",
              "      </script>\n",
              "    </div>\n",
              "\n",
              "    </div>\n",
              "  </div>\n"
            ],
            "application/vnd.google.colaboratory.intrinsic+json": {
              "type": "dataframe",
              "variable_name": "train_df"
            }
          },
          "metadata": {},
          "execution_count": 10
        }
      ]
    },
    {
      "cell_type": "code",
      "execution_count": 11,
      "metadata": {
        "id": "IIWNW7052v6B"
      },
      "outputs": [],
      "source": [
        "# 레이블 인코딩\n",
        "label_encoder = LabelEncoder()\n",
        "train_labels = label_encoder.fit_transform(train_df['label'])\n",
        "train_features = train_df.drop(columns=['ID', 'label']).values\n",
        "test_features = test_df.drop(columns=['ID']).values"
      ]
    },
    {
      "cell_type": "code",
      "source": [
        "train_features"
      ],
      "metadata": {
        "colab": {
          "base_uri": "https://localhost:8080/"
        },
        "id": "k7KptaiW3qwQ",
        "outputId": "902951e9-c1cb-4d38-a130-091cdbe3140e"
      },
      "execution_count": 12,
      "outputs": [
        {
          "output_type": "execute_result",
          "data": {
            "text/plain": [
              "array([[251, 196,  51, ..., 201, 251, 248],\n",
              "       [247, 184, 203, ..., 241, 240, 238],\n",
              "       [217, 223, 232, ..., 190, 206, 231],\n",
              "       ...,\n",
              "       [208, 169, 175, ..., 167,  77, 112],\n",
              "       [224, 242, 249, ..., 196, 195, 203],\n",
              "       [212, 211, 211, ..., 243, 244, 243]])"
            ]
          },
          "metadata": {},
          "execution_count": 12
        }
      ]
    },
    {
      "cell_type": "markdown",
      "source": [
        "# Sample Image"
      ],
      "metadata": {
        "id": "NCwkCwCFgsqI"
      }
    },
    {
      "cell_type": "code",
      "execution_count": 13,
      "metadata": {
        "colab": {
          "base_uri": "https://localhost:8080/",
          "height": 593
        },
        "id": "XCZnRK3_2v6B",
        "outputId": "38617083-185b-432f-9eb9-375958ae5b5e"
      },
      "outputs": [
        {
          "output_type": "display_data",
          "data": {
            "text/plain": [
              "<Figure size 1000x600 with 1 Axes>"
            ],
            "image/png": "[encoded data removed]"
          },
          "metadata": {}
        }
      ],
      "source": [
        "# 스타일 적용 (Seaborn 기본 테마 + 폰트 크기 조절)\n",
        "sns.set_theme(style=\"whitegrid\", font_scale=1.2)\n",
        "\n",
        "plt.figure(figsize=(10, 6))\n",
        "\n",
        "# 빈도수 기준으로 정렬 (내림차순)\n",
        "class_order = train_df['label'].value_counts().index\n",
        "\n",
        "# 막대그래프 (빈도가 많을수록 진한 색)\n",
        "ax = sns.countplot(\n",
        "    x='label',\n",
        "    data=train_df,\n",
        "    order=class_order,\n",
        "    palette=\"Blues_r\",  # 반전된 블루 색상 팔레트 (빈도가 많을수록 진한 색)\n",
        "    hue='label'\n",
        ")\n",
        "\n",
        "# x축 라벨 회전\n",
        "plt.xticks(rotation=45)\n",
        "\n",
        "# 제목과 라벨 추가\n",
        "plt.title(\"Class Distribution in Training Data\", fontsize=16, weight='bold')\n",
        "plt.xlabel(\"Class\", fontsize=13)\n",
        "plt.ylabel(\"Count\", fontsize=13)\n",
        "\n",
        "# 막대 위에 숫자 표시\n",
        "for p in ax.patches:\n",
        "    height = p.get_height()\n",
        "    ax.annotate(f'{int(height)}',\n",
        "                (p.get_x() + p.get_width() / 2., height),\n",
        "                ha='center', va='bottom',\n",
        "                fontsize=11, color='black', weight='bold')\n",
        "\n",
        "plt.tight_layout()\n",
        "plt.show()"
      ]
    },
    {
      "cell_type": "markdown",
      "source": [
        "# Config"
      ],
      "metadata": {
        "id": "s41csWbQjicF"
      }
    },
    {
      "cell_type": "code",
      "source": [
        "# 하이퍼파라미터 정의\n",
        "config = {\n",
        "    'lr': 0.001,\n",
        "    'weight_decay': 1e-4,\n",
        "    'batch_size': 64,\n",
        "    'factor': 0.2,\n",
        "    'patience': 5,\n",
        "    'epochs': 10,\n",
        "    'n_splits': 5\n",
        "}"
      ],
      "metadata": {
        "id": "u-lDHzhCbK5p"
      },
      "execution_count": 16,
      "outputs": []
    },
    {
      "cell_type": "code",
      "source": [
        "# wandb 기록\n",
        "import wandb\n",
        "\n",
        "wandb.init(\n",
        "    project=\"icon-classification\",  # 원하는 프로젝트 이름\n",
        "    name=\"kfold-baseline01\",            # 실험 이름\n",
        "    group=\"experiment01\",\n",
        "    config=config\n",
        ")"
      ],
      "metadata": {
        "colab": {
          "base_uri": "https://localhost:8080/",
          "height": 126
        },
        "id": "5p1oQweqmYFm",
        "outputId": "e566f96d-2ed5-4791-d12d-b70c877db41d"
      },
      "execution_count": 23,
      "outputs": [
        {
          "output_type": "display_data",
          "data": {
            "text/plain": [
              "<IPython.core.display.HTML object>"
            ],
            "text/html": [
              "Tracking run with wandb version 0.19.11"
            ]
          },
          "metadata": {}
        },
        {
          "output_type": "display_data",
          "data": {
            "text/plain": [
              "<IPython.core.display.HTML object>"
            ],
            "text/html": [
              "Run data is saved locally in <code>/content/wandb/run-20250514_070302-8xdsyk3w</code>"
            ]
          },
          "metadata": {}
        },
        {
          "output_type": "display_data",
          "data": {
            "text/plain": [
              "<IPython.core.display.HTML object>"
            ],
            "text/html": [
              "Syncing run <strong><a href='https://wandb.ai/eeuuais/icon-classification/runs/8xdsyk3w' target=\"_blank\">kfold-baseline01</a></strong> to <a href='https://wandb.ai/eeuuais/icon-classification' target=\"_blank\">Weights & Biases</a> (<a href='https://wandb.me/developer-guide' target=\"_blank\">docs</a>)<br>"
            ]
          },
          "metadata": {}
        },
        {
          "output_type": "display_data",
          "data": {
            "text/plain": [
              "<IPython.core.display.HTML object>"
            ],
            "text/html": [
              " View project at <a href='https://wandb.ai/eeuuais/icon-classification' target=\"_blank\">https://wandb.ai/eeuuais/icon-classification</a>"
            ]
          },
          "metadata": {}
        },
        {
          "output_type": "display_data",
          "data": {
            "text/plain": [
              "<IPython.core.display.HTML object>"
            ],
            "text/html": [
              " View run at <a href='https://wandb.ai/eeuuais/icon-classification/runs/8xdsyk3w' target=\"_blank\">https://wandb.ai/eeuuais/icon-classification/runs/8xdsyk3w</a>"
            ]
          },
          "metadata": {}
        },
        {
          "output_type": "execute_result",
          "data": {
            "text/html": [
              "<button onClick=\"this.nextSibling.style.display='block';this.style.display='none';\">Display W&B run</button><iframe src='https://wandb.ai/eeuuais/icon-classification/runs/8xdsyk3w?jupyter=true' style='border:none;width:100%;height:420px;display:none;'></iframe>"
            ],
            "text/plain": [
              "<wandb.sdk.wandb_run.Run at 0x7c88a459aed0>"
            ]
          },
          "metadata": {},
          "execution_count": 23
        }
      ]
    },
    {
      "cell_type": "code",
      "execution_count": 24,
      "metadata": {
        "colab": {
          "base_uri": "https://localhost:8080/",
          "height": 463
        },
        "id": "7--S6rUL2v6C",
        "outputId": "aa309803-8770-44f4-f8ee-9e0cc59de4db"
      },
      "outputs": [
        {
          "output_type": "display_data",
          "data": {
            "text/plain": [
              "<Figure size 1000x500 with 10 Axes>"
            ],
            "image/png": "[encoded data removed]"
          },
          "metadata": {}
        }
      ],
      "source": [
        "import wandb\n",
        "\n",
        "# 샘플 이미지 확인\n",
        "fig, axes = plt.subplots(2, 5, figsize=(10, 5))\n",
        "\n",
        "# 유니크한 라벨을 찾기 (중복된 라벨은 하나만 추출)\n",
        "unique_labels = np.unique(train_labels)\n",
        "\n",
        "# 샘플 이미지를 그리면서 wandb에 기록\n",
        "sample_images = []\n",
        "\n",
        "for i, ax in enumerate(axes.flat):\n",
        "    if i < len(unique_labels):\n",
        "        label = unique_labels[i]\n",
        "\n",
        "        # 해당 라벨을 가진 첫 번째 샘플 이미지 찾기\n",
        "        img_idx = np.where(train_labels == label)[0][0]\n",
        "\n",
        "        img = train_features[img_idx].reshape(32, 32)\n",
        "        ax.imshow(img, cmap='gray')\n",
        "        ax.set_title(label_encoder.inverse_transform([label])[0])  # 라벨을 텍스트로 표시\n",
        "        ax.axis('off')\n",
        "\n",
        "        # 각 이미지를 wandb에 추가\n",
        "        sample_images.append(wandb.Image(img, caption=label_encoder.inverse_transform([label])[0]))\n",
        "\n",
        "plt.tight_layout()\n",
        "plt.show()\n",
        "\n",
        "# ✅ Wandb에 샘플 이미지 기록\n",
        "wandb.log({\"sample_images\": sample_images})\n",
        "\n",
        "# # wandb 종료\n",
        "# wandb.finish()"
      ]
    },
    {
      "cell_type": "code",
      "execution_count": 25,
      "metadata": {
        "id": "nbmt-Vsq2v6C"
      },
      "outputs": [],
      "source": [
        "# 데이터 증강 함수\n",
        "def add_noise(data, noise_level=0.1):\n",
        "    noise = np.random.normal(0, noise_level, size=data.shape)\n",
        "    return np.clip(data + noise, 0, 1023) #  증강 후 범위 클리핑(0~1023으로 유지)\n",
        "\n",
        "def scale_data(data, scale_factor=0.5):\n",
        "    return data * scale_factor\n",
        "\n",
        "\n",
        "# 1. train/val 먼저 분리\n",
        "X_train, X_val, y_train, y_val = train_test_split(\n",
        "    train_features, train_labels, test_size=0.2, stratify=train_labels, random_state=42)\n",
        "\n",
        "# 2. train 데이터만 증강\n",
        "augmented_train_features = []\n",
        "augmented_train_labels = []\n",
        "\n",
        "for feature, label in zip(X_train, y_train):\n",
        "    noisy_feature = add_noise(feature)\n",
        "    scaled_feature = scale_data(feature)\n",
        "\n",
        "    augmented_train_features.extend([feature, noisy_feature, scaled_feature])\n",
        "    augmented_train_labels.extend([label, label, label])\n",
        "\n",
        "augmented_train_features = np.array(augmented_train_features)\n",
        "augmented_train_labels = np.array(augmented_train_labels)\n",
        "\n",
        "# 3. val은 증강 없이 그대로 둠\n",
        "X_val = np.array(X_val)\n",
        "y_val = np.array(y_val)"
      ]
    },
    {
      "cell_type": "code",
      "source": [
        "augmented_train_features.shape"
      ],
      "metadata": {
        "colab": {
          "base_uri": "https://localhost:8080/"
        },
        "id": "NjgYiFIB30oR",
        "outputId": "85a3d650-35d4-4498-a8bb-7188d06925a3"
      },
      "execution_count": 26,
      "outputs": [
        {
          "output_type": "execute_result",
          "data": {
            "text/plain": [
              "(2307, 1024)"
            ]
          },
          "metadata": {},
          "execution_count": 26
        }
      ]
    },
    {
      "cell_type": "markdown",
      "source": [
        "# K-fold training"
      ],
      "metadata": {
        "id": "M4IT2HNVgAh4"
      }
    },
    {
      "cell_type": "code",
      "source": [
        "# K-Fold 설정\n",
        "skf = StratifiedKFold(n_splits=config['n_splits'], shuffle=True, random_state=42) # 클래스 비율을 유지한 채 데이터를 n_splits개의 fold로 분할\n",
        "\n",
        "device = torch.device(\"cuda\" if torch.cuda.is_available() else \"cpu\")\n",
        "fold_accuracies = []\n",
        "\n",
        "for fold, (train_idx, val_idx) in enumerate(skf.split(augmented_train_features, augmented_train_labels)):\n",
        "    print(f\"📂 Fold {fold + 1} 시작\")\n",
        "    wandb.log({f'fold': fold + 1})\n",
        "\n",
        "    # 데이터 분리\n",
        "    X_train, X_val = augmented_train_features[train_idx], augmented_train_features[val_idx]\n",
        "    y_train, y_val = augmented_train_labels[train_idx], augmented_train_labels[val_idx]\n",
        "\n",
        "    # 데이터셋 & 로더\n",
        "    train_dataset = ImageDataset(X_train, y_train)\n",
        "    val_dataset = ImageDataset(X_val, y_val)\n",
        "    test_dataset = ImageDataset(test_features, transform=None)\n",
        "\n",
        "    train_loader = DataLoader(train_dataset, batch_size=config['batch_size'], shuffle=True)\n",
        "    val_loader = DataLoader(val_dataset, batch_size=config['batch_size'], shuffle=False)\n",
        "    test_loader = DataLoader(test_dataset, batch_size=config['batch_size'], shuffle=False)\n",
        "\n",
        "    # 모델 초기화\n",
        "    model = ResNet50Model().to(device)\n",
        "    criterion = nn.CrossEntropyLoss()\n",
        "    optimizer = optim.AdamW(model.parameters(), lr=config['lr'], weight_decay=config['weight_decay'])\n",
        "    scheduler = torch.optim.lr_scheduler.ReduceLROnPlateau(optimizer, mode='min', patience=config['patience'], factor=config['factor']) # 검증 손실이 개선되지 않으면 learning rate를 줄임\n",
        "\n",
        "\n",
        "    # 학습\n",
        "    best_val_acc = 0\n",
        "    for epoch in range(config['epochs']):\n",
        "        model.train()\n",
        "        train_loss = 0.0\n",
        "\n",
        "        for X_batch, y_batch in train_loader:\n",
        "            X_batch, y_batch = X_batch.to(device), y_batch.to(device)\n",
        "            optimizer.zero_grad()\n",
        "            outputs = model(X_batch)\n",
        "            loss = criterion(outputs, y_batch)\n",
        "            loss.backward()\n",
        "            optimizer.step()\n",
        "            train_loss += loss.item()\n",
        "\n",
        "        train_loss /= len(train_loader)\n",
        "\n",
        "        # 검증\n",
        "        model.eval()\n",
        "        correct, total = 0, 0\n",
        "        val_loss = 0.0\n",
        "        with torch.no_grad():\n",
        "            for X_batch, y_batch in val_loader:\n",
        "                X_batch, y_batch = X_batch.to(device), y_batch.to(device)\n",
        "                outputs = model(X_batch)\n",
        "                loss = criterion(outputs, y_batch)\n",
        "                val_loss += loss.item()\n",
        "                preds = torch.argmax(outputs, dim=1)\n",
        "                correct += (preds == y_batch).sum().item()\n",
        "                total += y_batch.size(0)\n",
        "\n",
        "        val_loss /= len(val_loader)\n",
        "        val_accuracy = correct / total\n",
        "        best_val_acc = max(best_val_acc, val_accuracy)\n",
        "        scheduler.step(val_loss)\n",
        "\n",
        "        # ✅ Wandb 기록\n",
        "        # wandb.log({\n",
        "        #     f\"fold_{fold+1}/train_loss\": train_loss,\n",
        "        #     f\"fold_{fold+1}/val_loss\": val_loss,\n",
        "        #     f\"fold_{fold+1}/val_accuracy\": val_accuracy,\n",
        "        #     f\"fold_{fold+1}/epoch\": epoch\n",
        "        # })\n",
        "        wandb.log({\n",
        "            f'train_loss_fold_{fold+1}': train_loss,\n",
        "            f'val_accuracy_fold_{fold+1}': val_accuracy,\n",
        "            f'val_loss_fold_{fold+1}': val_loss,\n",
        "         })\n",
        "\n",
        "    print(f\"✅ Fold {fold+1} 최고 검증 정확도: {best_val_acc:.4f}\")\n",
        "    fold_accuracies.append(best_val_acc)\n",
        "\n",
        "# 전체 교차검증 평균 정확도 기록\n",
        "avg_accuracy = sum(fold_accuracies) / len(fold_accuracies)\n",
        "wandb.log({'cv_avg_accuracy': avg_accuracy})\n",
        "print(f\"\\n📊 교차검증 평균 정확도: {avg_accuracy:.4f}\")\n",
        "\n",
        "# ✅ WandB 종료\n",
        "wandb.finish()"
      ],
      "metadata": {
        "colab": {
          "base_uri": "https://localhost:8080/",
          "height": 1000
        },
        "id": "NYMgboz9bRfR",
        "outputId": "20175f5a-e18a-4ecb-d17d-98e19c1ecc45"
      },
      "execution_count": 27,
      "outputs": [
        {
          "output_type": "stream",
          "name": "stdout",
          "text": [
            "📂 Fold 1 시작\n",
            "✅ Fold 1 최고 검증 정확도: 0.9156\n",
            "📂 Fold 2 시작\n",
            "✅ Fold 2 최고 검증 정확도: 0.9351\n",
            "📂 Fold 3 시작\n",
            "✅ Fold 3 최고 검증 정확도: 0.9544\n",
            "📂 Fold 4 시작\n",
            "✅ Fold 4 최고 검증 정확도: 0.9544\n",
            "📂 Fold 5 시작\n",
            "✅ Fold 5 최고 검증 정확도: 0.9588\n",
            "\n",
            "📊 교차검증 평균 정확도: 0.9437\n"
          ]
        },
        {
          "output_type": "display_data",
          "data": {
            "text/plain": [
              "<IPython.core.display.HTML object>"
            ],
            "text/html": []
          },
          "metadata": {}
        },
        {
          "output_type": "display_data",
          "data": {
            "text/plain": [
              "<IPython.core.display.HTML object>"
            ],
            "text/html": [
              "<br>    <style><br>        .wandb-row {<br>            display: flex;<br>            flex-direction: row;<br>            flex-wrap: wrap;<br>            justify-content: flex-start;<br>            width: 100%;<br>        }<br>        .wandb-col {<br>            display: flex;<br>            flex-direction: column;<br>            flex-basis: 100%;<br>            flex: 1;<br>            padding: 10px;<br>        }<br>    </style><br><div class=\"wandb-row\"><div class=\"wandb-col\"><h3>Run history:</h3><br/><table class=\"wandb\"><tr><td>cv_avg_accuracy</td><td>▁</td></tr><tr><td>fold</td><td>▁▃▅▆█</td></tr><tr><td>train_loss_fold_1</td><td>█▃▃▂▁▁▁▁▁▂</td></tr><tr><td>train_loss_fold_2</td><td>█▄▂▂▂▂▁▁▂▁</td></tr><tr><td>train_loss_fold_3</td><td>█▄▃▂▁▁▁▁▁▁</td></tr><tr><td>train_loss_fold_4</td><td>█▄▃▂▁▁▂▁▁▁</td></tr><tr><td>train_loss_fold_5</td><td>█▄▂▂▂▁▁▁▁▁</td></tr><tr><td>val_accuracy_fold_1</td><td>▁▁▇█████▇▇</td></tr><tr><td>val_accuracy_fold_2</td><td>▁▂▆▇▇▇▇▇▇█</td></tr><tr><td>val_accuracy_fold_3</td><td>▁▂▆▇██████</td></tr><tr><td>val_accuracy_fold_4</td><td>▁▃▆▇██▇███</td></tr><tr><td>val_accuracy_fold_5</td><td>▁▃▇▇██▇███</td></tr><tr><td>val_loss_fold_1</td><td>▇█▂▁▁▁▁▁▅▁</td></tr><tr><td>val_loss_fold_2</td><td>▃▃▁▁▁▂█▁▁▁</td></tr><tr><td>val_loss_fold_3</td><td>█▆▃▂▁▁▁▁▂▁</td></tr><tr><td>val_loss_fold_4</td><td>█▇▄▂▂▁▂▁▁▁</td></tr><tr><td>val_loss_fold_5</td><td>█▅▂▂▁▁▂▁▁▁</td></tr></table><br/></div><div class=\"wandb-col\"><h3>Run summary:</h3><br/><table class=\"wandb\"><tr><td>cv_avg_accuracy</td><td>0.94367</td></tr><tr><td>fold</td><td>5</td></tr><tr><td>train_loss_fold_1</td><td>0.46155</td></tr><tr><td>train_loss_fold_2</td><td>0.19303</td></tr><tr><td>train_loss_fold_3</td><td>0.10704</td></tr><tr><td>train_loss_fold_4</td><td>0.05929</td></tr><tr><td>train_loss_fold_5</td><td>0.11834</td></tr><tr><td>val_accuracy_fold_1</td><td>0.84848</td></tr><tr><td>val_accuracy_fold_2</td><td>0.93506</td></tr><tr><td>val_accuracy_fold_3</td><td>0.94577</td></tr><tr><td>val_accuracy_fold_4</td><td>0.94143</td></tr><tr><td>val_accuracy_fold_5</td><td>0.95879</td></tr><tr><td>val_loss_fold_1</td><td>0.47519</td></tr><tr><td>val_loss_fold_2</td><td>0.34656</td></tr><tr><td>val_loss_fold_3</td><td>0.18941</td></tr><tr><td>val_loss_fold_4</td><td>0.21077</td></tr><tr><td>val_loss_fold_5</td><td>0.16537</td></tr></table><br/></div></div>"
            ]
          },
          "metadata": {}
        },
        {
          "output_type": "display_data",
          "data": {
            "text/plain": [
              "<IPython.core.display.HTML object>"
            ],
            "text/html": [
              " View run <strong style=\"color:#cdcd00\">kfold-baseline01</strong> at: <a href='https://wandb.ai/eeuuais/icon-classification/runs/8xdsyk3w' target=\"_blank\">https://wandb.ai/eeuuais/icon-classification/runs/8xdsyk3w</a><br> View project at: <a href='https://wandb.ai/eeuuais/icon-classification' target=\"_blank\">https://wandb.ai/eeuuais/icon-classification</a><br>Synced 5 W&B file(s), 10 media file(s), 0 artifact file(s) and 0 other file(s)"
            ]
          },
          "metadata": {}
        },
        {
          "output_type": "display_data",
          "data": {
            "text/plain": [
              "<IPython.core.display.HTML object>"
            ],
            "text/html": [
              "Find logs at: <code>./wandb/run-20250514_070302-8xdsyk3w/logs</code>"
            ]
          },
          "metadata": {}
        }
      ]
    },
    {
      "cell_type": "markdown",
      "source": [
        "# Full data training"
      ],
      "metadata": {
        "id": "cviYQZdMkM0B"
      }
    },
    {
      "cell_type": "code",
      "source": [
        "import time\n",
        "\n",
        "# WandB 프로젝트 시작\n",
        "wandb.init(project='icon-classification',\n",
        "           name='full-training01',\n",
        "           config=config,\n",
        "           group='experiment01')\n",
        "\n",
        "device = torch.device(\"cuda\" if torch.cuda.is_available() else \"cpu\")\n",
        "\n",
        "# 전체 데이터 학습용 하이퍼파라미터 설정\n",
        "config = {\n",
        "    'lr': 0.001,\n",
        "    'weight_decay': 1e-4,\n",
        "    'batch_size': 64,\n",
        "    'factor': 0.2,\n",
        "    'patience': 7,\n",
        "    'epochs': 100  # 에폭 수를 늘려 전체 학습에 적합하게 설정\n",
        "}\n",
        "\n",
        "# 데이터셋 & 로더\n",
        "train_dataset = ImageDataset(augmented_train_features, augmented_train_labels)\n",
        "train_loader = DataLoader(train_dataset, batch_size=config['batch_size'], shuffle=True)\n",
        "\n",
        "# 모델 초기화\n",
        "model = ResNet50Model().to(device)\n",
        "wandb.watch(model, log='all') # wandb : Metrics 기록\n",
        "criterion = nn.CrossEntropyLoss()\n",
        "optimizer = optim.AdamW(model.parameters(), lr=config['lr'], weight_decay=config['weight_decay'])\n",
        "scheduler = torch.optim.lr_scheduler.ReduceLROnPlateau(optimizer, mode='min', patience=config['patience'], factor=config['factor'])\n",
        "\n",
        "# 학습\n",
        "best_train_acc = 0\n",
        "for epoch in range(config['epochs']):\n",
        "    model.train()\n",
        "    train_loss = 0.0\n",
        "    correct, total = 0, 0  # 훈련 정확도 계산을 위한 변수\n",
        "    start_time = time.time()\n",
        "\n",
        "    for X_batch, y_batch in train_loader:\n",
        "        X_batch, y_batch = X_batch.to(device), y_batch.to(device)\n",
        "        optimizer.zero_grad()\n",
        "        outputs = model(X_batch)\n",
        "        loss = criterion(outputs, y_batch)\n",
        "        loss.backward()\n",
        "        optimizer.step()\n",
        "\n",
        "        train_loss += loss.item()\n",
        "\n",
        "        # 훈련 정확도 계산\n",
        "        preds = torch.argmax(outputs, dim=1)\n",
        "        correct += (preds == y_batch).sum().item()\n",
        "        total += y_batch.size(0)\n",
        "\n",
        "    train_loss /= len(train_loader)\n",
        "    train_accuracy = correct / total\n",
        "    scheduler.step(train_loss)\n",
        "\n",
        "    # 학습 시간\n",
        "    end_time = time.time()\n",
        "    train_time = end_time - start_time\n",
        "\n",
        "    # ✅ Wandb 기록\n",
        "    wandb.log({\n",
        "        'train_loss': train_loss,\n",
        "        'train_accuracy': train_accuracy,\n",
        "        'train_time': train_time,\n",
        "        'learning_rate': optimizer.param_groups[0]['lr'],\n",
        "        'epoch': epoch\n",
        "    })\n",
        "\n",
        "    # 최고 훈련 정확도 기록\n",
        "    best_train_acc = max(best_train_acc, train_accuracy)\n",
        "    wandb.log({'best_train_accuracy': best_train_acc})  # 최고 정확도 기록\n",
        "\n",
        "    print(f\"Epoch {epoch + 1}/{config['epochs']}, Train Loss: {train_loss:.4f}, Train Accuracy: {train_accuracy:.4f}, Time: {train_time:.2f}s\")\n",
        "\n",
        "print(f\"\\n✅ 최종 훈련 정확도: {best_train_acc:.4f}\")\n",
        "\n",
        "# ✅ WandB 종료\n",
        "wandb.finish()\n"
      ],
      "metadata": {
        "colab": {
          "base_uri": "https://localhost:8080/",
          "height": 1000
        },
        "id": "ylqxtyMhzFfn",
        "outputId": "372ae3e2-2b3f-4080-f5be-6e7c15641578"
      },
      "execution_count": 28,
      "outputs": [
        {
          "output_type": "display_data",
          "data": {
            "text/plain": [
              "<IPython.core.display.HTML object>"
            ],
            "text/html": [
              "Tracking run with wandb version 0.19.11"
            ]
          },
          "metadata": {}
        },
        {
          "output_type": "display_data",
          "data": {
            "text/plain": [
              "<IPython.core.display.HTML object>"
            ],
            "text/html": [
              "Run data is saved locally in <code>/content/wandb/run-20250514_070536-d0g30tq9</code>"
            ]
          },
          "metadata": {}
        },
        {
          "output_type": "display_data",
          "data": {
            "text/plain": [
              "<IPython.core.display.HTML object>"
            ],
            "text/html": [
              "Syncing run <strong><a href='https://wandb.ai/eeuuais/icon-classification/runs/d0g30tq9' target=\"_blank\">full-training01</a></strong> to <a href='https://wandb.ai/eeuuais/icon-classification' target=\"_blank\">Weights & Biases</a> (<a href='https://wandb.me/developer-guide' target=\"_blank\">docs</a>)<br>"
            ]
          },
          "metadata": {}
        },
        {
          "output_type": "display_data",
          "data": {
            "text/plain": [
              "<IPython.core.display.HTML object>"
            ],
            "text/html": [
              " View project at <a href='https://wandb.ai/eeuuais/icon-classification' target=\"_blank\">https://wandb.ai/eeuuais/icon-classification</a>"
            ]
          },
          "metadata": {}
        },
        {
          "output_type": "display_data",
          "data": {
            "text/plain": [
              "<IPython.core.display.HTML object>"
            ],
            "text/html": [
              " View run at <a href='https://wandb.ai/eeuuais/icon-classification/runs/d0g30tq9' target=\"_blank\">https://wandb.ai/eeuuais/icon-classification/runs/d0g30tq9</a>"
            ]
          },
          "metadata": {}
        },
        {
          "output_type": "stream",
          "name": "stdout",
          "text": [
            "Epoch 1/100, Train Loss: 2.2079, Train Accuracy: 0.3147, Time: 3.10s\n",
            "Epoch 2/100, Train Loss: 1.0018, Train Accuracy: 0.6797, Time: 2.98s\n",
            "Epoch 3/100, Train Loss: 0.8607, Train Accuracy: 0.7681, Time: 2.99s\n",
            "Epoch 4/100, Train Loss: 0.4290, Train Accuracy: 0.8864, Time: 3.02s\n",
            "Epoch 5/100, Train Loss: 0.6292, Train Accuracy: 0.8717, Time: 3.02s\n",
            "Epoch 6/100, Train Loss: 0.4620, Train Accuracy: 0.8613, Time: 3.03s\n",
            "Epoch 7/100, Train Loss: 0.2562, Train Accuracy: 0.9402, Time: 3.04s\n",
            "Epoch 8/100, Train Loss: 0.1961, Train Accuracy: 0.9549, Time: 3.09s\n",
            "Epoch 9/100, Train Loss: 0.4748, Train Accuracy: 0.9358, Time: 3.06s\n",
            "Epoch 10/100, Train Loss: 0.2983, Train Accuracy: 0.9506, Time: 3.07s\n",
            "Epoch 11/100, Train Loss: 0.2484, Train Accuracy: 0.9497, Time: 3.06s\n",
            "Epoch 12/100, Train Loss: 0.3373, Train Accuracy: 0.9649, Time: 3.08s\n",
            "Epoch 13/100, Train Loss: 0.3224, Train Accuracy: 0.9367, Time: 3.05s\n",
            "Epoch 14/100, Train Loss: 0.1882, Train Accuracy: 0.9762, Time: 3.03s\n",
            "Epoch 15/100, Train Loss: 0.6316, Train Accuracy: 0.9384, Time: 3.03s\n",
            "Epoch 16/100, Train Loss: 0.7889, Train Accuracy: 0.8093, Time: 3.04s\n",
            "Epoch 17/100, Train Loss: 0.3005, Train Accuracy: 0.9497, Time: 3.02s\n",
            "Epoch 18/100, Train Loss: 0.4883, Train Accuracy: 0.9345, Time: 3.01s\n",
            "Epoch 19/100, Train Loss: 0.3792, Train Accuracy: 0.9215, Time: 3.01s\n",
            "Epoch 20/100, Train Loss: 0.3674, Train Accuracy: 0.9319, Time: 3.01s\n",
            "Epoch 21/100, Train Loss: 0.2588, Train Accuracy: 0.9645, Time: 3.01s\n",
            "Epoch 22/100, Train Loss: 0.4106, Train Accuracy: 0.9727, Time: 3.00s\n",
            "Epoch 23/100, Train Loss: 0.1095, Train Accuracy: 0.9757, Time: 3.00s\n",
            "Epoch 24/100, Train Loss: 0.0538, Train Accuracy: 0.9952, Time: 3.00s\n",
            "Epoch 25/100, Train Loss: 0.0946, Train Accuracy: 0.9957, Time: 3.01s\n",
            "Epoch 26/100, Train Loss: 0.1957, Train Accuracy: 0.9939, Time: 2.99s\n",
            "Epoch 27/100, Train Loss: 0.0929, Train Accuracy: 0.9896, Time: 2.99s\n",
            "Epoch 28/100, Train Loss: 0.0722, Train Accuracy: 0.9935, Time: 3.79s\n",
            "Epoch 29/100, Train Loss: 0.1041, Train Accuracy: 0.9905, Time: 3.03s\n",
            "Epoch 30/100, Train Loss: 0.0459, Train Accuracy: 0.9935, Time: 3.00s\n",
            "Epoch 31/100, Train Loss: 0.0259, Train Accuracy: 0.9948, Time: 3.00s\n",
            "Epoch 32/100, Train Loss: 0.1127, Train Accuracy: 0.9957, Time: 2.99s\n",
            "Epoch 33/100, Train Loss: 0.0387, Train Accuracy: 0.9935, Time: 3.02s\n",
            "Epoch 34/100, Train Loss: 0.0558, Train Accuracy: 0.9978, Time: 3.00s\n",
            "Epoch 35/100, Train Loss: 0.0509, Train Accuracy: 0.9970, Time: 3.01s\n",
            "Epoch 36/100, Train Loss: 0.0413, Train Accuracy: 0.9931, Time: 3.01s\n",
            "Epoch 37/100, Train Loss: 0.1376, Train Accuracy: 0.9939, Time: 3.04s\n",
            "Epoch 38/100, Train Loss: 0.0762, Train Accuracy: 0.9805, Time: 3.03s\n",
            "Epoch 39/100, Train Loss: 0.1375, Train Accuracy: 0.9870, Time: 3.01s\n",
            "Epoch 40/100, Train Loss: 0.0692, Train Accuracy: 0.9926, Time: 3.02s\n",
            "Epoch 41/100, Train Loss: 0.0540, Train Accuracy: 0.9970, Time: 3.03s\n",
            "Epoch 42/100, Train Loss: 0.0070, Train Accuracy: 0.9987, Time: 3.05s\n",
            "Epoch 43/100, Train Loss: 0.0380, Train Accuracy: 0.9974, Time: 3.01s\n",
            "Epoch 44/100, Train Loss: 0.0493, Train Accuracy: 0.9974, Time: 3.01s\n",
            "Epoch 45/100, Train Loss: 0.0384, Train Accuracy: 0.9987, Time: 3.03s\n",
            "Epoch 46/100, Train Loss: 0.0881, Train Accuracy: 0.9978, Time: 3.02s\n",
            "Epoch 47/100, Train Loss: 0.1146, Train Accuracy: 0.9965, Time: 3.03s\n",
            "Epoch 48/100, Train Loss: 0.0604, Train Accuracy: 0.9978, Time: 3.03s\n",
            "Epoch 49/100, Train Loss: 0.0329, Train Accuracy: 0.9965, Time: 3.03s\n",
            "Epoch 50/100, Train Loss: 0.0067, Train Accuracy: 0.9983, Time: 3.03s\n",
            "Epoch 51/100, Train Loss: 0.0085, Train Accuracy: 0.9987, Time: 3.01s\n",
            "Epoch 52/100, Train Loss: 0.0170, Train Accuracy: 0.9996, Time: 3.03s\n",
            "Epoch 53/100, Train Loss: 0.0619, Train Accuracy: 0.9987, Time: 3.01s\n",
            "Epoch 54/100, Train Loss: 0.0371, Train Accuracy: 0.9991, Time: 3.04s\n",
            "Epoch 55/100, Train Loss: 0.0044, Train Accuracy: 1.0000, Time: 3.65s\n",
            "Epoch 56/100, Train Loss: 0.0129, Train Accuracy: 0.9987, Time: 3.01s\n",
            "Epoch 57/100, Train Loss: 0.0448, Train Accuracy: 0.9983, Time: 3.01s\n",
            "Epoch 58/100, Train Loss: 0.0792, Train Accuracy: 0.9991, Time: 3.04s\n",
            "Epoch 59/100, Train Loss: 0.0732, Train Accuracy: 0.9991, Time: 3.01s\n",
            "Epoch 60/100, Train Loss: 0.0384, Train Accuracy: 0.9983, Time: 3.01s\n",
            "Epoch 61/100, Train Loss: 0.0083, Train Accuracy: 0.9978, Time: 3.01s\n",
            "Epoch 62/100, Train Loss: 0.0212, Train Accuracy: 0.9983, Time: 3.03s\n",
            "Epoch 63/100, Train Loss: 0.0731, Train Accuracy: 0.9978, Time: 3.01s\n",
            "Epoch 64/100, Train Loss: 0.0442, Train Accuracy: 0.9991, Time: 3.01s\n",
            "Epoch 65/100, Train Loss: 0.0089, Train Accuracy: 1.0000, Time: 3.01s\n",
            "Epoch 66/100, Train Loss: 0.0582, Train Accuracy: 0.9987, Time: 3.01s\n",
            "Epoch 67/100, Train Loss: 0.0271, Train Accuracy: 0.9991, Time: 3.02s\n",
            "Epoch 68/100, Train Loss: 0.0176, Train Accuracy: 0.9983, Time: 3.02s\n",
            "Epoch 69/100, Train Loss: 0.0185, Train Accuracy: 0.9983, Time: 3.01s\n",
            "Epoch 70/100, Train Loss: 0.0230, Train Accuracy: 0.9991, Time: 3.02s\n",
            "Epoch 71/100, Train Loss: 0.0144, Train Accuracy: 0.9996, Time: 3.02s\n",
            "Epoch 72/100, Train Loss: 0.0055, Train Accuracy: 1.0000, Time: 3.01s\n",
            "Epoch 73/100, Train Loss: 0.0281, Train Accuracy: 0.9991, Time: 3.01s\n",
            "Epoch 74/100, Train Loss: 0.0135, Train Accuracy: 0.9991, Time: 3.01s\n",
            "Epoch 75/100, Train Loss: 0.0576, Train Accuracy: 0.9991, Time: 3.03s\n",
            "Epoch 76/100, Train Loss: 0.0036, Train Accuracy: 1.0000, Time: 3.01s\n",
            "Epoch 77/100, Train Loss: 0.0760, Train Accuracy: 0.9996, Time: 3.01s\n",
            "Epoch 78/100, Train Loss: 0.0101, Train Accuracy: 0.9991, Time: 3.01s\n",
            "Epoch 79/100, Train Loss: 0.0193, Train Accuracy: 0.9991, Time: 3.03s\n",
            "Epoch 80/100, Train Loss: 0.0207, Train Accuracy: 0.9987, Time: 3.00s\n",
            "Epoch 81/100, Train Loss: 0.0037, Train Accuracy: 1.0000, Time: 3.01s\n",
            "Epoch 82/100, Train Loss: 0.0207, Train Accuracy: 0.9991, Time: 3.60s\n",
            "Epoch 83/100, Train Loss: 0.0441, Train Accuracy: 0.9987, Time: 3.04s\n",
            "Epoch 84/100, Train Loss: 0.0060, Train Accuracy: 1.0000, Time: 3.01s\n",
            "Epoch 85/100, Train Loss: 0.0781, Train Accuracy: 0.9996, Time: 3.01s\n",
            "Epoch 86/100, Train Loss: 0.0179, Train Accuracy: 0.9991, Time: 3.01s\n",
            "Epoch 87/100, Train Loss: 0.0037, Train Accuracy: 0.9996, Time: 3.04s\n",
            "Epoch 88/100, Train Loss: 0.0030, Train Accuracy: 1.0000, Time: 3.03s\n",
            "Epoch 89/100, Train Loss: 0.0260, Train Accuracy: 0.9991, Time: 3.01s\n",
            "Epoch 90/100, Train Loss: 0.0133, Train Accuracy: 0.9991, Time: 3.01s\n",
            "Epoch 91/100, Train Loss: 0.0159, Train Accuracy: 0.9991, Time: 3.03s\n",
            "Epoch 92/100, Train Loss: 0.0110, Train Accuracy: 0.9996, Time: 3.03s\n",
            "Epoch 93/100, Train Loss: 0.0113, Train Accuracy: 0.9987, Time: 3.02s\n",
            "Epoch 94/100, Train Loss: 0.1173, Train Accuracy: 0.9987, Time: 3.02s\n",
            "Epoch 95/100, Train Loss: 0.0523, Train Accuracy: 0.9996, Time: 3.04s\n",
            "Epoch 96/100, Train Loss: 0.0073, Train Accuracy: 1.0000, Time: 3.03s\n",
            "Epoch 97/100, Train Loss: 0.0039, Train Accuracy: 0.9991, Time: 3.02s\n",
            "Epoch 98/100, Train Loss: 0.0324, Train Accuracy: 0.9983, Time: 3.02s\n",
            "Epoch 99/100, Train Loss: 0.0090, Train Accuracy: 1.0000, Time: 3.03s\n",
            "Epoch 100/100, Train Loss: 0.0266, Train Accuracy: 0.9991, Time: 3.03s\n",
            "\n",
            "✅ 최종 훈련 정확도: 1.0000\n"
          ]
        },
        {
          "output_type": "display_data",
          "data": {
            "text/plain": [
              "<IPython.core.display.HTML object>"
            ],
            "text/html": []
          },
          "metadata": {}
        },
        {
          "output_type": "display_data",
          "data": {
            "text/plain": [
              "<IPython.core.display.HTML object>"
            ],
            "text/html": [
              "<br>    <style><br>        .wandb-row {<br>            display: flex;<br>            flex-direction: row;<br>            flex-wrap: wrap;<br>            justify-content: flex-start;<br>            width: 100%;<br>        }<br>        .wandb-col {<br>            display: flex;<br>            flex-direction: column;<br>            flex-basis: 100%;<br>            flex: 1;<br>            padding: 10px;<br>        }<br>    </style><br><div class=\"wandb-row\"><div class=\"wandb-col\"><h3>Run history:</h3><br/><table class=\"wandb\"><tr><td>best_train_accuracy</td><td>▁▇██████████████████████████████████████</td></tr><tr><td>epoch</td><td>▁▁▁▁▁▂▂▂▂▂▂▃▃▃▃▃▄▄▄▄▄▄▄▅▅▅▅▅▆▆▆▆▇▇▇▇▇▇██</td></tr><tr><td>learning_rate</td><td>█████████▂▂▂▂▂▂▁▁▁▁▁▁▁▁▁▁▁▁▁▁▁▁▁▁▁▁▁▁▁▁▁</td></tr><tr><td>train_accuracy</td><td>▁▅▆▆▅▅▆▇▇█▇████▇▇███████████████████████</td></tr><tr><td>train_loss</td><td>█▄▄▂▂▂▂▂▃▃▁▁▁▁▁▁▁▁▁▁▁▁▁▁▁▁▁▁▁▁▁▁▁▁▁▁▁▁▁▁</td></tr><tr><td>train_time</td><td>▂▁▂▂▂▂▁▁▁▁▁▁█▁▁▁▁▂▁▁▁▁▁▁▁▁▁▁▁▁▁▁▁▂▁▁▁▂▁▁</td></tr></table><br/></div><div class=\"wandb-col\"><h3>Run summary:</h3><br/><table class=\"wandb\"><tr><td>best_train_accuracy</td><td>1</td></tr><tr><td>epoch</td><td>99</td></tr><tr><td>learning_rate</td><td>0.0</td></tr><tr><td>train_accuracy</td><td>0.99913</td></tr><tr><td>train_loss</td><td>0.0266</td></tr><tr><td>train_time</td><td>3.03191</td></tr></table><br/></div></div>"
            ]
          },
          "metadata": {}
        },
        {
          "output_type": "display_data",
          "data": {
            "text/plain": [
              "<IPython.core.display.HTML object>"
            ],
            "text/html": [
              " View run <strong style=\"color:#cdcd00\">full-training01</strong> at: <a href='https://wandb.ai/eeuuais/icon-classification/runs/d0g30tq9' target=\"_blank\">https://wandb.ai/eeuuais/icon-classification/runs/d0g30tq9</a><br> View project at: <a href='https://wandb.ai/eeuuais/icon-classification' target=\"_blank\">https://wandb.ai/eeuuais/icon-classification</a><br>Synced 5 W&B file(s), 0 media file(s), 0 artifact file(s) and 0 other file(s)"
            ]
          },
          "metadata": {}
        },
        {
          "output_type": "display_data",
          "data": {
            "text/plain": [
              "<IPython.core.display.HTML object>"
            ],
            "text/html": [
              "Find logs at: <code>./wandb/run-20250514_070536-d0g30tq9/logs</code>"
            ]
          },
          "metadata": {}
        }
      ]
    },
    {
      "cell_type": "markdown",
      "source": [
        "# Inference"
      ],
      "metadata": {
        "id": "mCMZcOTJgjeD"
      }
    },
    {
      "cell_type": "code",
      "source": [
        "# 예측\n",
        "model.eval()\n",
        "predictions = []\n",
        "with torch.no_grad():\n",
        "    for X_batch in test_loader:\n",
        "        X_batch = X_batch.to(device)\n",
        "        outputs = model(X_batch)\n",
        "        preds = torch.argmax(outputs, dim=1).cpu().numpy()\n",
        "        predictions.extend(preds)"
      ],
      "metadata": {
        "id": "L94BBI2LAiyh"
      },
      "execution_count": 29,
      "outputs": []
    },
    {
      "cell_type": "markdown",
      "source": [
        "# Submission"
      ],
      "metadata": {
        "id": "odKIdcRSgF84"
      }
    },
    {
      "cell_type": "code",
      "source": [
        "# 결과 저장\n",
        "\n",
        "# 라벨 디코딩\n",
        "predictions_decoded = label_encoder.inverse_transform(predictions)\n",
        "\n",
        "submission = pd.DataFrame({\"ID\": test_df[\"ID\"],\n",
        "                           \"label\": label_encoder.inverse_transform(predictions)})\n",
        "submission.to_csv(\"submission.csv\", index=False)"
      ],
      "metadata": {
        "id": "Y2sJCIpKA_nC"
      },
      "execution_count": 30,
      "outputs": []
    },
    {
      "cell_type": "code",
      "source": [
        "submission"
      ],
      "metadata": {
        "colab": {
          "base_uri": "https://localhost:8080/",
          "height": 424
        },
        "id": "aQGq2Ou4o7jL",
        "outputId": "4c16c195-b4aa-4ea8-f903-af64bb40455b"
      },
      "execution_count": 31,
      "outputs": [
        {
          "output_type": "execute_result",
          "data": {
            "text/plain": [
              "           ID         label\n",
              "0    TEST_000          bird\n",
              "1    TEST_001           cat\n",
              "2    TEST_002  emotion_face\n",
              "3    TEST_003      building\n",
              "4    TEST_004         truck\n",
              "..        ...           ...\n",
              "245  TEST_245    police_car\n",
              "246  TEST_246           cat\n",
              "247  TEST_247      building\n",
              "248  TEST_248    police_car\n",
              "249  TEST_249  emotion_face\n",
              "\n",
              "[250 rows x 2 columns]"
            ],
            "text/html": [
              "\n",
              "  <div id=\"df-169e58be-63c3-4002-8f7f-a7d4c4ffe773\" class=\"colab-df-container\">\n",
              "    <div>\n",
              "<style scoped>\n",
              "    .dataframe tbody tr th:only-of-type {\n",
              "        vertical-align: middle;\n",
              "    }\n",
              "\n",
              "    .dataframe tbody tr th {\n",
              "        vertical-align: top;\n",
              "    }\n",
              "\n",
              "    .dataframe thead th {\n",
              "        text-align: right;\n",
              "    }\n",
              "</style>\n",
              "<table border=\"1\" class=\"dataframe\">\n",
              "  <thead>\n",
              "    <tr style=\"text-align: right;\">\n",
              "      <th></th>\n",
              "      <th>ID</th>\n",
              "      <th>label</th>\n",
              "    </tr>\n",
              "  </thead>\n",
              "  <tbody>\n",
              "    <tr>\n",
              "      <th>0</th>\n",
              "      <td>TEST_000</td>\n",
              "      <td>bird</td>\n",
              "    </tr>\n",
              "    <tr>\n",
              "      <th>1</th>\n",
              "      <td>TEST_001</td>\n",
              "      <td>cat</td>\n",
              "    </tr>\n",
              "    <tr>\n",
              "      <th>2</th>\n",
              "      <td>TEST_002</td>\n",
              "      <td>emotion_face</td>\n",
              "    </tr>\n",
              "    <tr>\n",
              "      <th>3</th>\n",
              "      <td>TEST_003</td>\n",
              "      <td>building</td>\n",
              "    </tr>\n",
              "    <tr>\n",
              "      <th>4</th>\n",
              "      <td>TEST_004</td>\n",
              "      <td>truck</td>\n",
              "    </tr>\n",
              "    <tr>\n",
              "      <th>...</th>\n",
              "      <td>...</td>\n",
              "      <td>...</td>\n",
              "    </tr>\n",
              "    <tr>\n",
              "      <th>245</th>\n",
              "      <td>TEST_245</td>\n",
              "      <td>police_car</td>\n",
              "    </tr>\n",
              "    <tr>\n",
              "      <th>246</th>\n",
              "      <td>TEST_246</td>\n",
              "      <td>cat</td>\n",
              "    </tr>\n",
              "    <tr>\n",
              "      <th>247</th>\n",
              "      <td>TEST_247</td>\n",
              "      <td>building</td>\n",
              "    </tr>\n",
              "    <tr>\n",
              "      <th>248</th>\n",
              "      <td>TEST_248</td>\n",
              "      <td>police_car</td>\n",
              "    </tr>\n",
              "    <tr>\n",
              "      <th>249</th>\n",
              "      <td>TEST_249</td>\n",
              "      <td>emotion_face</td>\n",
              "    </tr>\n",
              "  </tbody>\n",
              "</table>\n",
              "<p>250 rows × 2 columns</p>\n",
              "</div>\n",
              "    <div class=\"colab-df-buttons\">\n",
              "\n",
              "  <div class=\"colab-df-container\">\n",
              "    <button class=\"colab-df-convert\" onclick=\"convertToInteractive('df-169e58be-63c3-4002-8f7f-a7d4c4ffe773')\"\n",
              "            title=\"Convert this dataframe to an interactive table.\"\n",
              "            style=\"display:none;\">\n",
              "\n",
              "  <svg xmlns=\"http://www.w3.org/2000/svg\" height=\"24px\" viewBox=\"0 -960 960 960\">\n",
              "    <path d=\"M120-120v-720h720v720H120Zm60-500h600v-160H180v160Zm220 220h160v-160H400v160Zm0 220h160v-160H400v160ZM180-400h160v-160H180v160Zm440 0h160v-160H620v160ZM180-180h160v-160H180v160Zm440 0h160v-160H620v160Z\"/>\n",
              "  </svg>\n",
              "    </button>\n",
              "\n",
              "  <style>\n",
              "    .colab-df-container {\n",
              "      display:flex;\n",
              "      gap: 12px;\n",
              "    }\n",
              "\n",
              "    .colab-df-convert {\n",
              "      background-color: #E8F0FE;\n",
              "      border: none;\n",
              "      border-radius: 50%;\n",
              "      cursor: pointer;\n",
              "      display: none;\n",
              "      fill: #1967D2;\n",
              "      height: 32px;\n",
              "      padding: 0 0 0 0;\n",
              "      width: 32px;\n",
              "    }\n",
              "\n",
              "    .colab-df-convert:hover {\n",
              "      background-color: #E2EBFA;\n",
              "      box-shadow: 0px 1px 2px rgba(60, 64, 67, 0.3), 0px 1px 3px 1px rgba(60, 64, 67, 0.15);\n",
              "      fill: #174EA6;\n",
              "    }\n",
              "\n",
              "    .colab-df-buttons div {\n",
              "      margin-bottom: 4px;\n",
              "    }\n",
              "\n",
              "    [theme=dark] .colab-df-convert {\n",
              "      background-color: #3B4455;\n",
              "      fill: #D2E3FC;\n",
              "    }\n",
              "\n",
              "    [theme=dark] .colab-df-convert:hover {\n",
              "      background-color: #434B5C;\n",
              "      box-shadow: 0px 1px 3px 1px rgba(0, 0, 0, 0.15);\n",
              "      filter: drop-shadow(0px 1px 2px rgba(0, 0, 0, 0.3));\n",
              "      fill: #FFFFFF;\n",
              "    }\n",
              "  </style>\n",
              "\n",
              "    <script>\n",
              "      const buttonEl =\n",
              "        document.querySelector('#df-169e58be-63c3-4002-8f7f-a7d4c4ffe773 button.colab-df-convert');\n",
              "      buttonEl.style.display =\n",
              "        google.colab.kernel.accessAllowed ? 'block' : 'none';\n",
              "\n",
              "      async function convertToInteractive(key) {\n",
              "        const element = document.querySelector('#df-169e58be-63c3-4002-8f7f-a7d4c4ffe773');\n",
              "        const dataTable =\n",
              "          await google.colab.kernel.invokeFunction('convertToInteractive',\n",
              "                                                    [key], {});\n",
              "        if (!dataTable) return;\n",
              "\n",
              "        const docLinkHtml = 'Like what you see? Visit the ' +\n",
              "          '<a target=\"_blank\" href=https://colab.research.google.com/notebooks/data_table.ipynb>data table notebook</a>'\n",
              "          + ' to learn more about interactive tables.';\n",
              "        element.innerHTML = '';\n",
              "        dataTable['output_type'] = 'display_data';\n",
              "        await google.colab.output.renderOutput(dataTable, element);\n",
              "        const docLink = document.createElement('div');\n",
              "        docLink.innerHTML = docLinkHtml;\n",
              "        element.appendChild(docLink);\n",
              "      }\n",
              "    </script>\n",
              "  </div>\n",
              "\n",
              "\n",
              "    <div id=\"df-ac64d6e8-b4b0-421b-be76-c4db891c7d67\">\n",
              "      <button class=\"colab-df-quickchart\" onclick=\"quickchart('df-ac64d6e8-b4b0-421b-be76-c4db891c7d67')\"\n",
              "                title=\"Suggest charts\"\n",
              "                style=\"display:none;\">\n",
              "\n",
              "<svg xmlns=\"http://www.w3.org/2000/svg\" height=\"24px\"viewBox=\"0 0 24 24\"\n",
              "     width=\"24px\">\n",
              "    <g>\n",
              "        <path d=\"M19 3H5c-1.1 0-2 .9-2 2v14c0 1.1.9 2 2 2h14c1.1 0 2-.9 2-2V5c0-1.1-.9-2-2-2zM9 17H7v-7h2v7zm4 0h-2V7h2v10zm4 0h-2v-4h2v4z\"/>\n",
              "    </g>\n",
              "</svg>\n",
              "      </button>\n",
              "\n",
              "<style>\n",
              "  .colab-df-quickchart {\n",
              "      --bg-color: #E8F0FE;\n",
              "      --fill-color: #1967D2;\n",
              "      --hover-bg-color: #E2EBFA;\n",
              "      --hover-fill-color: #174EA6;\n",
              "      --disabled-fill-color: #AAA;\n",
              "      --disabled-bg-color: #DDD;\n",
              "  }\n",
              "\n",
              "  [theme=dark] .colab-df-quickchart {\n",
              "      --bg-color: #3B4455;\n",
              "      --fill-color: #D2E3FC;\n",
              "      --hover-bg-color: #434B5C;\n",
              "      --hover-fill-color: #FFFFFF;\n",
              "      --disabled-bg-color: #3B4455;\n",
              "      --disabled-fill-color: #666;\n",
              "  }\n",
              "\n",
              "  .colab-df-quickchart {\n",
              "    background-color: var(--bg-color);\n",
              "    border: none;\n",
              "    border-radius: 50%;\n",
              "    cursor: pointer;\n",
              "    display: none;\n",
              "    fill: var(--fill-color);\n",
              "    height: 32px;\n",
              "    padding: 0;\n",
              "    width: 32px;\n",
              "  }\n",
              "\n",
              "  .colab-df-quickchart:hover {\n",
              "    background-color: var(--hover-bg-color);\n",
              "    box-shadow: 0 1px 2px rgba(60, 64, 67, 0.3), 0 1px 3px 1px rgba(60, 64, 67, 0.15);\n",
              "    fill: var(--button-hover-fill-color);\n",
              "  }\n",
              "\n",
              "  .colab-df-quickchart-complete:disabled,\n",
              "  .colab-df-quickchart-complete:disabled:hover {\n",
              "    background-color: var(--disabled-bg-color);\n",
              "    fill: var(--disabled-fill-color);\n",
              "    box-shadow: none;\n",
              "  }\n",
              "\n",
              "  .colab-df-spinner {\n",
              "    border: 2px solid var(--fill-color);\n",
              "    border-color: transparent;\n",
              "    border-bottom-color: var(--fill-color);\n",
              "    animation:\n",
              "      spin 1s steps(1) infinite;\n",
              "  }\n",
              "\n",
              "  @keyframes spin {\n",
              "    0% {\n",
              "      border-color: transparent;\n",
              "      border-bottom-color: var(--fill-color);\n",
              "      border-left-color: var(--fill-color);\n",
              "    }\n",
              "    20% {\n",
              "      border-color: transparent;\n",
              "      border-left-color: var(--fill-color);\n",
              "      border-top-color: var(--fill-color);\n",
              "    }\n",
              "    30% {\n",
              "      border-color: transparent;\n",
              "      border-left-color: var(--fill-color);\n",
              "      border-top-color: var(--fill-color);\n",
              "      border-right-color: var(--fill-color);\n",
              "    }\n",
              "    40% {\n",
              "      border-color: transparent;\n",
              "      border-right-color: var(--fill-color);\n",
              "      border-top-color: var(--fill-color);\n",
              "    }\n",
              "    60% {\n",
              "      border-color: transparent;\n",
              "      border-right-color: var(--fill-color);\n",
              "    }\n",
              "    80% {\n",
              "      border-color: transparent;\n",
              "      border-right-color: var(--fill-color);\n",
              "      border-bottom-color: var(--fill-color);\n",
              "    }\n",
              "    90% {\n",
              "      border-color: transparent;\n",
              "      border-bottom-color: var(--fill-color);\n",
              "    }\n",
              "  }\n",
              "</style>\n",
              "\n",
              "      <script>\n",
              "        async function quickchart(key) {\n",
              "          const quickchartButtonEl =\n",
              "            document.querySelector('#' + key + ' button');\n",
              "          quickchartButtonEl.disabled = true;  // To prevent multiple clicks.\n",
              "          quickchartButtonEl.classList.add('colab-df-spinner');\n",
              "          try {\n",
              "            const charts = await google.colab.kernel.invokeFunction(\n",
              "                'suggestCharts', [key], {});\n",
              "          } catch (error) {\n",
              "            console.error('Error during call to suggestCharts:', error);\n",
              "          }\n",
              "          quickchartButtonEl.classList.remove('colab-df-spinner');\n",
              "          quickchartButtonEl.classList.add('colab-df-quickchart-complete');\n",
              "        }\n",
              "        (() => {\n",
              "          let quickchartButtonEl =\n",
              "            document.querySelector('#df-ac64d6e8-b4b0-421b-be76-c4db891c7d67 button');\n",
              "          quickchartButtonEl.style.display =\n",
              "            google.colab.kernel.accessAllowed ? 'block' : 'none';\n",
              "        })();\n",
              "      </script>\n",
              "    </div>\n",
              "\n",
              "  <div id=\"id_fa6c330c-6204-482f-8e1c-cbbc32e8d3a6\">\n",
              "    <style>\n",
              "      .colab-df-generate {\n",
              "        background-color: #E8F0FE;\n",
              "        border: none;\n",
              "        border-radius: 50%;\n",
              "        cursor: pointer;\n",
              "        display: none;\n",
              "        fill: #1967D2;\n",
              "        height: 32px;\n",
              "        padding: 0 0 0 0;\n",
              "        width: 32px;\n",
              "      }\n",
              "\n",
              "      .colab-df-generate:hover {\n",
              "        background-color: #E2EBFA;\n",
              "        box-shadow: 0px 1px 2px rgba(60, 64, 67, 0.3), 0px 1px 3px 1px rgba(60, 64, 67, 0.15);\n",
              "        fill: #174EA6;\n",
              "      }\n",
              "\n",
              "      [theme=dark] .colab-df-generate {\n",
              "        background-color: #3B4455;\n",
              "        fill: #D2E3FC;\n",
              "      }\n",
              "\n",
              "      [theme=dark] .colab-df-generate:hover {\n",
              "        background-color: #434B5C;\n",
              "        box-shadow: 0px 1px 3px 1px rgba(0, 0, 0, 0.15);\n",
              "        filter: drop-shadow(0px 1px 2px rgba(0, 0, 0, 0.3));\n",
              "        fill: #FFFFFF;\n",
              "      }\n",
              "    </style>\n",
              "    <button class=\"colab-df-generate\" onclick=\"generateWithVariable('submission')\"\n",
              "            title=\"Generate code using this dataframe.\"\n",
              "            style=\"display:none;\">\n",
              "\n",
              "  <svg xmlns=\"http://www.w3.org/2000/svg\" height=\"24px\"viewBox=\"0 0 24 24\"\n",
              "       width=\"24px\">\n",
              "    <path d=\"M7,19H8.4L18.45,9,17,7.55,7,17.6ZM5,21V16.75L18.45,3.32a2,2,0,0,1,2.83,0l1.4,1.43a1.91,1.91,0,0,1,.58,1.4,1.91,1.91,0,0,1-.58,1.4L9.25,21ZM18.45,9,17,7.55Zm-12,3A5.31,5.31,0,0,0,4.9,8.1,5.31,5.31,0,0,0,1,6.5,5.31,5.31,0,0,0,4.9,4.9,5.31,5.31,0,0,0,6.5,1,5.31,5.31,0,0,0,8.1,4.9,5.31,5.31,0,0,0,12,6.5,5.46,5.46,0,0,0,6.5,12Z\"/>\n",
              "  </svg>\n",
              "    </button>\n",
              "    <script>\n",
              "      (() => {\n",
              "      const buttonEl =\n",
              "        document.querySelector('#id_fa6c330c-6204-482f-8e1c-cbbc32e8d3a6 button.colab-df-generate');\n",
              "      buttonEl.style.display =\n",
              "        google.colab.kernel.accessAllowed ? 'block' : 'none';\n",
              "\n",
              "      buttonEl.onclick = () => {\n",
              "        google.colab.notebook.generateWithVariable('submission');\n",
              "      }\n",
              "      })();\n",
              "    </script>\n",
              "  </div>\n",
              "\n",
              "    </div>\n",
              "  </div>\n"
            ],
            "application/vnd.google.colaboratory.intrinsic+json": {
              "type": "dataframe",
              "variable_name": "submission",
              "summary": "{\n  \"name\": \"submission\",\n  \"rows\": 250,\n  \"fields\": [\n    {\n      \"column\": \"ID\",\n      \"properties\": {\n        \"dtype\": \"string\",\n        \"num_unique_values\": 250,\n        \"samples\": [\n          \"TEST_142\",\n          \"TEST_006\",\n          \"TEST_097\"\n        ],\n        \"semantic_type\": \"\",\n        \"description\": \"\"\n      }\n    },\n    {\n      \"column\": \"label\",\n      \"properties\": {\n        \"dtype\": \"category\",\n        \"num_unique_values\": 10,\n        \"samples\": [\n          \"apple\",\n          \"cat\",\n          \"airplane\"\n        ],\n        \"semantic_type\": \"\",\n        \"description\": \"\"\n      }\n    }\n  ]\n}"
            }
          },
          "metadata": {},
          "execution_count": 31
        }
      ]
    }
  ],
  "metadata": {
    "kernelspec": {
      "display_name": "Python 3",
      "name": "python3"
    },
    "language_info": {
      "codemirror_mode": {
        "name": "ipython",
        "version": 3
      },
      "file_extension": ".py",
      "mimetype": "text/x-python",
      "name": "python",
      "nbconvert_exporter": "python",
      "pygments_lexer": "ipython3",
      "version": "3.12.7"
    },
    "colab": {
      "provenance": [],
      "gpuType": "T4"
    },
    "accelerator": "GPU"
  },
  "nbformat": 4,
  "nbformat_minor": 0
}